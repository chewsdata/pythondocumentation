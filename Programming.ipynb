{
  "nbformat": 4,
  "nbformat_minor": 0,
  "metadata": {
    "colab": {
      "name": "Programming.ipynb",
      "provenance": [],
      "collapsed_sections": [
        "8Pk2R0AQl2n1",
        "K8DuYAMKrf1f",
        "5WEL-MXGl1ob",
        "j9M1pt0xxIsK"
      ],
      "authorship_tag": "ABX9TyOzkaSDTwpz8zHj4FEXgjN9",
      "include_colab_link": true
    },
    "kernelspec": {
      "name": "python3",
      "display_name": "Python 3"
    },
    "language_info": {
      "name": "python"
    }
  },
  "cells": [
    {
      "cell_type": "markdown",
      "metadata": {
        "id": "view-in-github",
        "colab_type": "text"
      },
      "source": [
        "<a href=\"https://colab.research.google.com/github/chewsdata/pythondocumentation/blob/main/Programming.ipynb\" target=\"_parent\"><img src=\"https://colab.research.google.com/assets/colab-badge.svg\" alt=\"Open In Colab\"/></a>"
      ]
    },
    {
      "cell_type": "markdown",
      "metadata": {
        "id": "8Pk2R0AQl2n1"
      },
      "source": [
        "#<center> **Programming - Module No.: SRH-CS-AI-01**\n",
        "\n",
        "\n",
        "\n",
        "\n",
        "---\n",
        "\n",
        "####<center>**Talha Nauman Ahmad Khan**\n",
        "\n",
        "### **<center>Homeworks:**\n",
        "\n",
        "  1. HW1 - $26^{th}$ April 2021\n",
        "  2. HW2 - $26^{th}$ April 2021\n",
        "  3. HW3 - $3^{rd}$ May 2021\n",
        "  4. HW4 - $10^{th}$ May 2021\n",
        "\n",
        "###<center> **Mini-Project:**\n",
        "\n",
        "  *File Handling, Control Statements and Iterators* | **$15^{rd}$ May 2021** \n",
        "\n",
        "\n",
        "\n",
        "\n"
      ]
    },
    {
      "cell_type": "markdown",
      "metadata": {
        "id": "5WEL-MXGl1ob"
      },
      "source": [
        "##<center> **HW 1**\n",
        "\n",
        "\n"
      ]
    },
    {
      "cell_type": "markdown",
      "metadata": {
        "id": "-KNSgOSjrIyK"
      },
      "source": [
        "1.   Write a Python program to get the Python version you are using?\n"
      ]
    },
    {
      "cell_type": "code",
      "metadata": {
        "colab": {
          "base_uri": "https://localhost:8080/"
        },
        "id": "GbBLDw4-tSdB",
        "outputId": "c6009d2a-7ae5-4811-9958-7f1e5ad08917"
      },
      "source": [
        "import sys\n",
        "print(\"Python version\")\n",
        "print (sys.version)\n",
        "print(\"Version info.\")\n",
        "print (sys.version_info)"
      ],
      "execution_count": null,
      "outputs": [
        {
          "output_type": "stream",
          "text": [
            "Python version\n",
            "3.7.10 (default, Feb 20 2021, 21:17:23) \n",
            "[GCC 7.5.0]\n",
            "Version info.\n",
            "sys.version_info(major=3, minor=7, micro=10, releaselevel='final', serial=0)\n"
          ],
          "name": "stdout"
        }
      ]
    },
    {
      "cell_type": "markdown",
      "metadata": {
        "id": "6ac7_JV6rOiA"
      },
      "source": [
        "2.   Write a Python program to display the current date and time?\n"
      ]
    },
    {
      "cell_type": "code",
      "metadata": {
        "colab": {
          "base_uri": "https://localhost:8080/"
        },
        "id": "IlfS4oIQtesY",
        "outputId": "b439f46a-6d87-49e2-ff42-f338962d97da"
      },
      "source": [
        "from datetime import datetime\n",
        "\n",
        "# datetime object containing current date and time\n",
        "now = datetime.now()\n",
        " \n",
        "# dd/mm/YY H:M:S\n",
        "dt_string = now.strftime(\"%d/%m/%Y %H:%M:%S\")\n",
        "print(\"date and time =\", dt_string)\t"
      ],
      "execution_count": null,
      "outputs": [
        {
          "output_type": "stream",
          "text": [
            "date and time = 22/04/2021 08:46:42\n"
          ],
          "name": "stdout"
        }
      ]
    },
    {
      "cell_type": "markdown",
      "metadata": {
        "id": "e5QXH4pIuCpz"
      },
      "source": [
        "3. Write a Python program which accepts the radius of a circle from the user and compute the area?"
      ]
    },
    {
      "cell_type": "code",
      "metadata": {
        "colab": {
          "base_uri": "https://localhost:8080/"
        },
        "id": "h97Ual_3uS4Z",
        "outputId": "2a0feda4-9892-474e-d8b7-7d2edc7780e6"
      },
      "source": [
        "from math import pi\n",
        "radius = float(input (\"Input the radius of the circle : \"))\n",
        "print (\"The area of the circle with radius \" + str(radius) + \" is: \" + str(pi * radius**2))"
      ],
      "execution_count": null,
      "outputs": [
        {
          "output_type": "stream",
          "text": [
            "Input the radius of the circle : 2\n",
            "The area of the circle with radius 2.0 is: 12.566370614359172\n"
          ],
          "name": "stdout"
        }
      ]
    },
    {
      "cell_type": "markdown",
      "metadata": {
        "id": "NRAXgY7yuWmN"
      },
      "source": [
        "4.   Write a Python program which accepts the user's first and last name and print them in reverse order with a space between the? \n"
      ]
    },
    {
      "cell_type": "code",
      "metadata": {
        "colab": {
          "base_uri": "https://localhost:8080/"
        },
        "id": "E3uRb_Q7ubtS",
        "outputId": "5759a898-0067-4fc5-9689-f6369aa492d9"
      },
      "source": [
        "firstname = input(\"What is your first name? \")\n",
        "lastname = input(\"What is your last name?  \")\n",
        "print(firstname[::-1] + \" \" + lastname[::-1])"
      ],
      "execution_count": null,
      "outputs": [
        {
          "output_type": "stream",
          "text": [
            "What is your first name? Talha\n",
            "What is your last name?  Khan\n",
            "ahlaT nahK\n"
          ],
          "name": "stdout"
        }
      ]
    },
    {
      "cell_type": "markdown",
      "metadata": {
        "id": "dZb-0uwsu-GV"
      },
      "source": [
        "5.   Write a Python program that accepts an integer (n) and computes the value of n+nn*nnn? \n"
      ]
    },
    {
      "cell_type": "code",
      "metadata": {
        "colab": {
          "base_uri": "https://localhost:8080/"
        },
        "id": "Ewg6b8OdvFpN",
        "outputId": "8ea6590b-aa99-4e38-f21d-9559bd27ef02"
      },
      "source": [
        "c = int(input(\"Input an integer : \"))\n",
        "n = int( \"%s\" % c )\n",
        "nn = int( \"%s%s\" % (c,c) )\n",
        "nnn = int( \"%s%s%s\" % (c,c,c) )\n",
        "print (n+nn*nnn)"
      ],
      "execution_count": null,
      "outputs": [
        {
          "output_type": "stream",
          "text": [
            "Input an integer : 1000\n",
            "1000200020001001000\n"
          ],
          "name": "stdout"
        }
      ]
    },
    {
      "cell_type": "markdown",
      "metadata": {
        "id": "DdjVwG0jvvdK"
      },
      "source": [
        "6.   Write code to print the first 10 factorials, in reverse order? \n"
      ]
    },
    {
      "cell_type": "code",
      "metadata": {
        "colab": {
          "base_uri": "https://localhost:8080/"
        },
        "id": "xi08Z98ivWUN",
        "outputId": "df4d0de4-9e6f-4b8b-f0b8-321f35e3c6a9"
      },
      "source": [
        "results = []\n",
        "factorial = 1\n",
        "for i in range(1,11):\n",
        "    factorial = factorial * i\n",
        "    results.append('{:2,}! = {:,}'.format(i, factorial))\n",
        "\n",
        "print('\\n'.join(reversed(results)))"
      ],
      "execution_count": null,
      "outputs": [
        {
          "output_type": "stream",
          "text": [
            "10! = 3,628,800\n",
            " 9! = 362,880\n",
            " 8! = 40,320\n",
            " 7! = 5,040\n",
            " 6! = 720\n",
            " 5! = 120\n",
            " 4! = 24\n",
            " 3! = 6\n",
            " 2! = 2\n",
            " 1! = 1\n"
          ],
          "name": "stdout"
        }
      ]
    },
    {
      "cell_type": "markdown",
      "metadata": {
        "id": "aujLa0Jywjo8"
      },
      "source": [
        ""
      ]
    },
    {
      "cell_type": "markdown",
      "metadata": {
        "id": "j9M1pt0xxIsK"
      },
      "source": [
        "##<center> **HW2**\n"
      ]
    },
    {
      "cell_type": "markdown",
      "metadata": {
        "id": "eWFbsUPfxatq"
      },
      "source": [
        "1. Write a function calculation() such that it can accept two variables and calculate the addition and subtraction of them. And also it must return both addition and subtraction in a single return call\n",
        "\n",
        "\n"
      ]
    },
    {
      "cell_type": "code",
      "metadata": {
        "id": "5xeBwgDmz9zB",
        "colab": {
          "base_uri": "https://localhost:8080/"
        },
        "outputId": "be1370f7-aed5-4ae8-bff8-98e86f5d7350"
      },
      "source": [
        "def calculation(a, b):\n",
        "    return a+b, a-b\n",
        "\n",
        "a = input()\n",
        "b = input()\n",
        "res = calculation(int(a), int(b))\n",
        "print(res)"
      ],
      "execution_count": null,
      "outputs": [
        {
          "output_type": "stream",
          "text": [
            "2\n",
            "2\n",
            "(4, 0)\n"
          ],
          "name": "stdout"
        }
      ]
    },
    {
      "cell_type": "markdown",
      "metadata": {
        "id": "pRdu6A4z1Uu3"
      },
      "source": [
        "\n",
        "2. Write a recursive function to calculate the sum of numbers from 0 to 10. Return the largest item from the given list. Print multiplication table of a given number. Print the following pattern using for loop.\n",
        "\n",
        "\n",
        "---\n",
        "\n",
        "\n",
        "        5 4 3 2 1  \n",
        "        1 2 3 4 \n",
        "        3 2 1 \n",
        "        1 2 \n",
        "        1"
      ]
    },
    {
      "cell_type": "code",
      "metadata": {
        "id": "Ukn31OkTd28n",
        "colab": {
          "base_uri": "https://localhost:8080/"
        },
        "outputId": "c3d367e9-3707-48e9-c29c-8952fea5721e"
      },
      "source": [
        "#Write a recursive function to calculate the sum of numbers from 0 to 10.\n",
        "\n",
        "def sum(x):\n",
        "\n",
        "  if x == 1:\n",
        "      return 1\n",
        "  else:\n",
        "      return(x+sum(x-1))\n",
        "\n",
        "num = 10\n",
        "\n",
        "print(sum(num))"
      ],
      "execution_count": null,
      "outputs": [
        {
          "output_type": "stream",
          "text": [
            "55\n"
          ],
          "name": "stdout"
        }
      ]
    },
    {
      "cell_type": "code",
      "metadata": {
        "id": "rvLNuUwWYnCd",
        "colab": {
          "base_uri": "https://localhost:8080/"
        },
        "outputId": "cea84b3d-e459-4b44-a38f-37e2e6ded925"
      },
      "source": [
        "# Return the largest item from the given list.\n",
        "\n",
        "list = range(0,11)\n",
        "print(\"Largest element is:\", max(list))"
      ],
      "execution_count": null,
      "outputs": [
        {
          "output_type": "stream",
          "text": [
            "Largest element is: 10\n"
          ],
          "name": "stdout"
        }
      ]
    },
    {
      "cell_type": "code",
      "metadata": {
        "id": "791kjFahcD6p",
        "colab": {
          "base_uri": "https://localhost:8080/"
        },
        "outputId": "b944809c-cda1-4000-e815-d395c055b1b0"
      },
      "source": [
        "#Print multiplication table of a given number.\n",
        "\n",
        "num_max = max(list)\n",
        "\n",
        "for i in range(1,11):\n",
        "    print(num*i)"
      ],
      "execution_count": null,
      "outputs": [
        {
          "output_type": "stream",
          "text": [
            "10\n",
            "20\n",
            "30\n",
            "40\n",
            "50\n",
            "60\n",
            "70\n",
            "80\n",
            "90\n",
            "100\n"
          ],
          "name": "stdout"
        }
      ]
    },
    {
      "cell_type": "code",
      "metadata": {
        "colab": {
          "base_uri": "https://localhost:8080/"
        },
        "id": "jK0TYkHiN-FL",
        "outputId": "bdeba6eb-cde3-4e77-d616-d6d19eeb2459"
      },
      "source": [
        "\"\"\"\n",
        "Print the following pattern\n",
        "\n",
        "1 2 3 4 5\n",
        "4 3 2 1\n",
        "1 2 3\n",
        "2 1 \n",
        "1\n",
        "\"\"\"\n",
        "\n",
        "rows = 5\n",
        "list = []\n",
        "for i in range(rows, 0, -1):\n",
        "  \n",
        "    for j in range(1, i + 1):\n",
        "      print(j,end = ' ')\n",
        "   \n",
        "    print(\"\")\n",
        "   \n",
        "    for j in range(i-1,0,-1):\n",
        "      print(j,end = ' ')\n",
        "   \n",
        "    print(\"\") "
      ],
      "execution_count": null,
      "outputs": [
        {
          "output_type": "stream",
          "text": [
            "1 2 3 4 5 \n",
            "4 3 2 1 \n",
            "1 2 3 4 \n",
            "3 2 1 \n",
            "1 2 3 \n",
            "2 1 \n",
            "1 2 \n",
            "1 \n",
            "1 \n",
            "\n"
          ],
          "name": "stdout"
        }
      ]
    },
    {
      "cell_type": "markdown",
      "metadata": {
        "id": "_LqktrCzno-T"
      },
      "source": [
        "3. **From stephen.marquard@uct.ac.za Sat Jan  5 09:14:16 2008**\n",
        "\n",
        "  please extract 'srh.ac.in' by using string methods only\n"
      ]
    },
    {
      "cell_type": "code",
      "metadata": {
        "colab": {
          "base_uri": "https://localhost:8080/"
        },
        "id": "Udm2_a10oHez",
        "outputId": "58267c3e-223b-4010-9456-3f292c276e33"
      },
      "source": [
        "#String Type & Directory\n",
        "stuff = 'Hello'\n",
        "print(type(stuff))\n",
        "print(dir(stuff))\n",
        "#example\n",
        "example = \"stephen.marquard@uct.ac.za Sat Jan 5 09:14:16 2008\"\n",
        "loc = example.find('@')\n",
        "space = example.find(' ')\n",
        "print(example[loc+1:space])"
      ],
      "execution_count": null,
      "outputs": [
        {
          "output_type": "stream",
          "text": [
            "<class 'str'>\n",
            "['__add__', '__class__', '__contains__', '__delattr__', '__dir__', '__doc__', '__eq__', '__format__', '__ge__', '__getattribute__', '__getitem__', '__getnewargs__', '__gt__', '__hash__', '__init__', '__init_subclass__', '__iter__', '__le__', '__len__', '__lt__', '__mod__', '__mul__', '__ne__', '__new__', '__reduce__', '__reduce_ex__', '__repr__', '__rmod__', '__rmul__', '__setattr__', '__sizeof__', '__str__', '__subclasshook__', 'capitalize', 'casefold', 'center', 'count', 'encode', 'endswith', 'expandtabs', 'find', 'format', 'format_map', 'index', 'isalnum', 'isalpha', 'isascii', 'isdecimal', 'isdigit', 'isidentifier', 'islower', 'isnumeric', 'isprintable', 'isspace', 'istitle', 'isupper', 'join', 'ljust', 'lower', 'lstrip', 'maketrans', 'partition', 'replace', 'rfind', 'rindex', 'rjust', 'rpartition', 'rsplit', 'rstrip', 'split', 'splitlines', 'startswith', 'strip', 'swapcase', 'title', 'translate', 'upper', 'zfill']\n",
            "uct.ac.za\n"
          ],
          "name": "stdout"
        }
      ]
    },
    {
      "cell_type": "markdown",
      "metadata": {
        "id": "0iCtf0cG2mix"
      },
      "source": [
        "##<center>**HW 3**\n"
      ]
    },
    {
      "cell_type": "markdown",
      "metadata": {
        "id": "mlxxOL5y2y9B"
      },
      "source": [
        "#####1. Write a python code to generate a dictionary with 10 key words and few repeated values, after that take the keyword frequency from dictionary at the end swap keyword as value, value as keyword"
      ]
    },
    {
      "cell_type": "code",
      "metadata": {
        "id": "f8ANN1j6_4lv"
      },
      "source": [
        "!pip install random-word"
      ],
      "execution_count": null,
      "outputs": []
    },
    {
      "cell_type": "code",
      "metadata": {
        "colab": {
          "base_uri": "https://localhost:8080/"
        },
        "id": "c4dG6BsP--fN",
        "outputId": "9a93ab64-dfc2-4ec1-97f6-c5898054e239"
      },
      "source": [
        "from random_word import RandomWords\n",
        "\n",
        "r = RandomWords()\n",
        "rand_word = {} \n",
        "words = r.get_random_words(limit = 10)\n",
        "counts = []\n",
        "for w in words:\n",
        "  counts.append(words.count(w))\n",
        "\n",
        "\n",
        "rand_word = dict(zip(words,counts))\n",
        "swap_rand_word = dict([(value, key) for key, value in rand_word.items()])\n",
        "\n",
        "print(rand_word)\n",
        "print(swap_rand_word)"
      ],
      "execution_count": null,
      "outputs": [
        {
          "output_type": "stream",
          "text": [
            "{'chiefery': 1, 'Samuel': 1, 'lacertids': 1, 'bugleweed': 1, 'gippos': 1, 'flufftail': 1, 'donator': 1, 'espinel': 1, 'oakum': 1, 'unfamiliarity': 1}\n",
            "{1: 'unfamiliarity'}\n"
          ],
          "name": "stdout"
        }
      ]
    },
    {
      "cell_type": "markdown",
      "metadata": {
        "id": "Rf_5FN5P2zJS"
      },
      "source": [
        "#####2. Write a Python code for Bubble Sort, Merge Sort, Quick Sort on any Dictionary"
      ]
    },
    {
      "cell_type": "code",
      "metadata": {
        "id": "9TJroTzCq3wL"
      },
      "source": [
        "\"\"\" Bubble Sort \"\"\"\n",
        "\n",
        "def bubble_sort(array):\n",
        "    n = len(array)\n",
        "\n",
        "    for i in range(n):\n",
        "        # Create a flag that will allow the function to\n",
        "        # terminate early if there's nothing left to sort\n",
        "        already_sorted = True\n",
        "\n",
        "        # Start looking at each item of the list one by one,\n",
        "        # comparing it with its adjacent value. With each\n",
        "        # iteration, the portion of the array that you look at\n",
        "        # shrinks because the remaining items have already been\n",
        "        # sorted.\n",
        "        for j in range(n - i - 1):\n",
        "            if array[j] > array[j + 1]:\n",
        "                # If the item you're looking at is greater than its\n",
        "                # adjacent value, then swap them\n",
        "                array[j], array[j + 1] = array[j + 1], array[j]\n",
        "\n",
        "                # Since you had to swap two elements,\n",
        "                # set the `already_sorted` flag to `False` so the\n",
        "                # algorithm doesn't finish prematurely\n",
        "                already_sorted = False\n",
        "\n",
        "        # If there were no swaps during the last iteration,\n",
        "        # the array is already sorted, and you can terminate\n",
        "        if already_sorted:\n",
        "            break\n",
        "\n",
        "    return array\n",
        "\n",
        "    \"\"\" Merge Sort \"\"\"\n",
        "\n",
        "    def merge(left, right):\n",
        "    # If the first array is empty, then nothing needs\n",
        "    # to be merged, and you can return the second array as the result\n",
        "      if len(left) == 0:\n",
        "        return right\n",
        "\n",
        "    # If the second array is empty, then nothing needs\n",
        "    # to be merged, and you can return the first array as the result\n",
        "    if len(right) == 0:\n",
        "        return left\n",
        "\n",
        "    result = []\n",
        "    index_left = index_right = 0\n",
        "\n",
        "    # Now go through both arrays until all the elements\n",
        "    # make it into the resultant array\n",
        "    while len(result) < len(left) + len(right):\n",
        "        # The elements need to be sorted to add them to the\n",
        "        # resultant array, so you need to decide whether to get\n",
        "        # the next element from the first or the second array\n",
        "        if left[index_left] <= right[index_right]:\n",
        "            result.append(left[index_left])\n",
        "            index_left += 1\n",
        "        else:\n",
        "            result.append(right[index_right])\n",
        "            index_right += 1\n",
        "\n",
        "        # If you reach the end of either array, then you can\n",
        "        # add the remaining elements from the other array to\n",
        "        # the result and break the loop\n",
        "        if index_right == len(right):\n",
        "            result += left[index_left:]\n",
        "            break\n",
        "\n",
        "        if index_left == len(left):\n",
        "            result += right[index_right:]\n",
        "            break\n",
        "\n",
        "    return result\n",
        "\n",
        "    \"\"\" Quick Sort \"\"\"\n",
        "\n",
        "    from random import randint\n",
        "\n",
        "def quicksort(array):\n",
        "    # If the input array contains fewer than two elements,\n",
        "    # then return it as the result of the function\n",
        "    if len(array) < 2:\n",
        "        return array\n",
        "\n",
        "    low, same, high = [], [], []\n",
        "\n",
        "    # Select your `pivot` element randomly\n",
        "    pivot = array[randint(0, len(array) - 1)]\n",
        "\n",
        "    for item in array:\n",
        "        # Elements that are smaller than the `pivot` go to\n",
        "        # the `low` list. Elements that are larger than\n",
        "        # `pivot` go to the `high` list. Elements that are\n",
        "        # equal to `pivot` go to the `same` list.\n",
        "        if item < pivot:\n",
        "            low.append(item)\n",
        "        elif item == pivot:\n",
        "            same.append(item)\n",
        "        elif item > pivot:\n",
        "            high.append(item)\n",
        "\n",
        "    # The final result combines the sorted `low` list\n",
        "    # with the `same` list and the sorted `high` list\n",
        "    return quicksort(low) + same + quicksort(high)\n"
      ],
      "execution_count": null,
      "outputs": []
    },
    {
      "cell_type": "markdown",
      "metadata": {
        "id": "oiT7114Y2zWp"
      },
      "source": [
        "\n",
        "#####3. Write a Python Program to generate a random paragraph and take each and every word frequency4."
      ]
    },
    {
      "cell_type": "code",
      "metadata": {
        "colab": {
          "base_uri": "https://localhost:8080/"
        },
        "id": "bLP4epaBsG4j",
        "outputId": "8cdb409b-7fa9-4a50-fde0-8adc85473ba1"
      },
      "source": [
        "!pip install lorem-text\n",
        "from lorem_text import lorem\n",
        "\n",
        "rand_para = lorem.paragraph().split()\n",
        "\n",
        "wordfreq = []\n",
        "for w in rand_para:\n",
        "  wordfreq.append(rand_para.count(w))\n",
        "\n",
        "print(\"Pairs\\n\" + str(list(zip(rand_para, wordfreq))))"
      ],
      "execution_count": null,
      "outputs": [
        {
          "output_type": "stream",
          "text": [
            "Requirement already satisfied: lorem-text in /usr/local/lib/python3.7/dist-packages (1.5)\n",
            "Requirement already satisfied: Click>=7.0 in /usr/local/lib/python3.7/dist-packages (from lorem-text) (7.1.2)\n",
            "Pairs\n",
            "[('Pariatur', 1), ('sapiente', 1), ('sit', 1), ('magni', 1), ('sed', 1), ('odio', 1), ('quasi', 1), ('perspiciatis', 1), ('nobis', 1), ('beatae,', 1), ('aspernatur', 1), ('molestias', 1), ('quos', 1), ('fugit', 1), ('quam?', 1)]\n"
          ],
          "name": "stdout"
        }
      ]
    },
    {
      "cell_type": "markdown",
      "metadata": {
        "id": "lNAqqKJ72zhC"
      },
      "source": [
        "#####4. Write python reg.ex code:helloBC, helloB, helloA, helloBCXA1232344, abc1234, 12345, b4930340aaaax, aaab9, 9x, 88aabb, 9zzzz“——-***”, “–”, “****”, “--”AAAABBCCCCCCxyxyz, ABBBBCCCxxxx, ABABABxxxx"
      ]
    },
    {
      "cell_type": "code",
      "metadata": {
        "id": "j8jvXeMtsiTw",
        "colab": {
          "base_uri": "https://localhost:8080/"
        },
        "outputId": "3d7a75b7-64e0-4876-fd57-b65f098eb773"
      },
      "source": [
        "import re\n",
        "\n",
        "#helloBC\n",
        "\n",
        "def text_match(text):\n",
        "        patterns = '(\\w)|\\*|\\–'\n",
        "        if re.search(patterns,  text):\n",
        "                return 'Found a match!'\n",
        "        else:\n",
        "                return('Not matched!')\n",
        "\n",
        "print(text_match(\"helloBC\"))\n",
        "print(text_match(\"helloB\"))\n",
        "print(text_match(\"helloA\"))\n",
        "print(text_match(\"helloBCXA1232344\"))\n",
        "print(text_match(\"abc1234\"))\n",
        "print(text_match(\"12345\"))\n",
        "print(text_match(\"b4930340aaaax\"))\n",
        "print(text_match(\"aaab9\"))\n",
        "print(text_match(\"9x\"))\n",
        "print(text_match(\"88aabb\"))\n",
        "print(text_match(\"9zzzz“——-”,\"))\n",
        "print(text_match(\"–\"))\n",
        "print(text_match(\"*\"))\n",
        "print(text_match(\"“--”AAAABBCCCCCCxyxyz\"))\n",
        "print(text_match(\"ABBBBCCCxxxx\"))\n",
        "print(text_match(\"ABABABxxxx\"))\n"
      ],
      "execution_count": null,
      "outputs": [
        {
          "output_type": "stream",
          "text": [
            "Found a match!\n",
            "Found a match!\n",
            "Found a match!\n",
            "Found a match!\n",
            "Found a match!\n",
            "Found a match!\n",
            "Found a match!\n",
            "Found a match!\n",
            "Found a match!\n",
            "Found a match!\n",
            "Found a match!\n",
            "Found a match!\n",
            "Found a match!\n",
            "Found a match!\n",
            "Found a match!\n",
            "Found a match!\n"
          ],
          "name": "stdout"
        }
      ]
    },
    {
      "cell_type": "markdown",
      "metadata": {
        "id": "hEPo_ydl3X8K"
      },
      "source": [
        "#####5. How would you write a regex that matches a number with commas for every threedigits? It must match the following: '42''1,364''6,863,785'but not the following:'12,34,567' (which has only two digits between the commas)'1234' (which lacks commas)"
      ]
    },
    {
      "cell_type": "code",
      "metadata": {
        "id": "bLmy-pkrtZwq",
        "colab": {
          "base_uri": "https://localhost:8080/"
        },
        "outputId": "5a911f62-a12c-47af-9d21-ea9e2d49b952"
      },
      "source": [
        "import re\n",
        "\n",
        "def text_match(text):\n",
        "        patterns = ' r\"[^,]\\d{1,3}(,(\\d{3}))*\"'\n",
        "\n",
        "        if re.search(patterns,  text):\n",
        "                return 'Found a match!'\n",
        "        else:\n",
        "                return('Not matched!')\n",
        "\n",
        "print(text_match(\"'42''1,364''6,863,785'\"))\n",
        "print(text_match(\"'12,34,567'\"))"
      ],
      "execution_count": null,
      "outputs": [
        {
          "output_type": "stream",
          "text": [
            "Not matched!\n",
            "Not matched!\n"
          ],
          "name": "stdout"
        }
      ]
    },
    {
      "cell_type": "markdown",
      "metadata": {
        "id": "SD3W0yTf2zxb"
      },
      "source": [
        "#####6. Regex Version of the strip() Method:Write a function that takes a string and does the same thing as the strip() string method. If no other arguments are passed other than the string to strip, then whitespace characters will be removed from the beginning and end of the string. Otherwise, the characters specified in the second argument to the function will be removed from the string."
      ]
    },
    {
      "cell_type": "code",
      "metadata": {
        "colab": {
          "base_uri": "https://localhost:8080/"
        },
        "id": "mR5nYyJx42IQ",
        "outputId": "8913fbb3-5112-464a-8307-256bdfad3523"
      },
      "source": [
        "import re\n",
        "\n",
        "test_string = input('Please enter a string to strip: ')\n",
        "char_rm = input('What characters do you want to remove? (Press enter for whitepsace)')\n",
        "\n",
        "def white_strip(string, remove):\n",
        "    if remove != '':\n",
        "        strip_regex = re.compile(remove)\n",
        "        new_string = strip_regex.sub('', string)\n",
        "        return new_string\n",
        "    else:\n",
        "        strip_regex = re.compile('^\\s*')\n",
        "        new_string = strip_regex.sub('', string)\n",
        "        strip_regex = re.compile('\\s*$')\n",
        "        new_string = strip_regex.sub('', new_string)\n",
        "        return new_string\n",
        "\n",
        "\n",
        "new_string = white_strip(test_string, char_rm)\n",
        "print(new_string)"
      ],
      "execution_count": null,
      "outputs": [
        {
          "output_type": "stream",
          "text": [
            "Please enter a string to strip: hello theisn is atlaha\n",
            "What characters do you want to remove? (Press enter for whitepsace)the\n",
            "hello isn is atlaha\n"
          ],
          "name": "stdout"
        }
      ]
    },
    {
      "cell_type": "markdown",
      "metadata": {
        "id": "XvNqfHNe3j1B"
      },
      "source": [
        "##<center>**HW 4**"
      ]
    },
    {
      "cell_type": "markdown",
      "metadata": {
        "id": "K8DuYAMKrf1f"
      },
      "source": [
        "\n",
        "## <center>**Mini-Project**\n",
        "\n",
        "<p><strong>Welcome!</strong> This notebook will teach you about reading the text file in the Python Programming Language. By the end of this lab, you'll know how handle various data files, use control statments and iterate fluently in Python.</p>\n",
        "\n",
        "###<center><h2>Table of Contents</h2>\n",
        "<div class=\"alert alert-block alert-info\" style=\"margin-top: 20px\">\n",
        "    <ul>\n",
        "        <li><a href=\"file\">File Handling</a></li>\n",
        "        <li><a href=\"cont\">Control Statements</a></li>\n",
        "        <li><a href=\"iter\">Iterators</a></li>\n",
        "    </ul>\n",
        "    <p>\n",
        "                Estimated time needed: <strong>60 min</strong>\n",
        "    </p>\n",
        "</div>\n",
        "\n",
        "<hr>"
      ]
    },
    {
      "cell_type": "markdown",
      "metadata": {
        "id": "WOFrqmZkAKFS"
      },
      "source": [
        "###<center><h2 id=\"file\">File Handling</h2>"
      ]
    },
    {
      "cell_type": "markdown",
      "metadata": {
        "id": "pIxr96W4Bd7n"
      },
      "source": [
        "**Why we need file handling?**\n",
        "\n",
        "We need files to input data into python.\n",
        "\n",
        "**Types of Files:**\n",
        "\n",
        "In python, input files are ***text*** or ***binary***.\n",
        "\n",
        "**What is file handling?**\n",
        "\n",
        "Creating, Reading, Updating, Deletion\n",
        "\n"
      ]
    },
    {
      "cell_type": "markdown",
      "metadata": {
        "id": "ISWntpyMB_JE"
      },
      "source": [
        "**Python File Handling System**\n",
        "\n",
        "The key function for working with files in Python is the ***open()*** function.\n",
        "\n",
        "![1.jpg](data:image/jpeg;base64,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)"
      ]
    },
    {
      "cell_type": "markdown",
      "metadata": {
        "id": "BspjvDKOCT6c"
      },
      "source": [
        "**Lets download data and try the different modes of the open() function**"
      ]
    },
    {
      "cell_type": "code",
      "metadata": {
        "colab": {
          "base_uri": "https://localhost:8080/"
        },
        "id": "C1x0kxuoDx2V",
        "outputId": "77683621-5a60-4b5f-b055-d28c29dc4e32"
      },
      "source": [
        "\"\"\"Opening Text File from Local device\"\"\"\n",
        "\n",
        "with open(\"/content/text.txt\") as f:    #using 'with'\n",
        "  textfile = f.read()                   #saving file to 'textfile'\n",
        "  print(textfile)                       #printing the file  \n",
        "\n"
      ],
      "execution_count": null,
      "outputs": [
        {
          "output_type": "stream",
          "text": [
            "Tackle Writers' Block\n",
            "A random paragraph can also be an excellent way for a writer to tackle writers' block. Writing block can often happen due to being stuck with a current project that the writer is trying to complete. By inserting a completely random paragraph from which to begin, it can take down some of the issues that may have been causing the writers' block in the first place.\n",
            "\n",
            "Beginning Writing Routine\n",
            "Another productive way to use this tool to begin a daily writing routine. One way is to generate a random paragraph with the intention to try to rewrite it while still keeping the original meaning. The purpose here is to just get the writing started so that when the writer goes onto their day's writing projects, words are already flowing from their fingers.\n",
            "\n",
            "Writing Challenge\n",
            "Another writing challenge can be to take the individual sentences in the random paragraph and incorporate a single sentence from that into a new paragraph to create a short story. Unlike the random sentence generator, the sentences from the random paragraph will have some connection to one another so it will be a bit different. You also won't know exactly how many sentences will appear in the random paragraph.\n",
            "\n",
            "\n",
            "\n"
          ],
          "name": "stdout"
        }
      ]
    },
    {
      "cell_type": "code",
      "metadata": {
        "id": "iU0k8glQcDBy"
      },
      "source": [
        "# 2. Read or Write\n",
        "\n",
        "\"\"\"Read file\"\"\"\n",
        "\n",
        "    f = open(\"demofile.txt\", \"r\")\n",
        "    print(f.read())\n",
        "\n",
        "\"\"\"Read line\"\"\"\n",
        "\n",
        "    f = open(\"demofile.txt\", \"r\")\n",
        "    print(f.readline())\n",
        "\n",
        "\"\"\"Print line by line\"\"\"\n",
        "\n",
        "    f = open(\"demofile.txt\", \"r\")\n",
        "    for x in f:\n",
        "      print(x)\n",
        "\n",
        "\"\"\"Write and close\"\"\"\n",
        "\n",
        "    f = open(\"demofile2.txt\", \"a\")\n",
        "    f.write(\"Now the file has more content!\")\n",
        "    f.close()\n",
        "\n",
        "\n"
      ],
      "execution_count": null,
      "outputs": []
    },
    {
      "cell_type": "code",
      "metadata": {
        "id": "XcOPYUQIcG-R"
      },
      "source": [
        "\"\"\" create \"\"\"\n",
        "\n",
        "\n"
      ],
      "execution_count": null,
      "outputs": []
    },
    {
      "cell_type": "code",
      "metadata": {
        "id": "A2lUIB42cImR"
      },
      "source": [
        "\"\"\" delete \"\"\"\n",
        "\n",
        "\n"
      ],
      "execution_count": null,
      "outputs": []
    },
    {
      "cell_type": "code",
      "metadata": {
        "id": "dS53Z02qQUl-"
      },
      "source": [
        "\"\"\"Handling website data\"\"\"\n",
        "\n",
        "import urllib.request\n",
        "import urllib.parse\n",
        "import re\n",
        "\n",
        "url = 'https://en.wikipedia.org/wiki/Python_(programming_language)'\n",
        "values = {'s':'basics',\n",
        "          'submit':'search'}\n",
        "data = urllib.parse.urlencode(values)\n",
        "data = data.encode('utf-8')\n",
        "req = urllib.request.Request(url, data)\n",
        "resp = urllib.request.urlopen(req)\n",
        "respData = resp.read()\n",
        "\n",
        "#print(respData)\n",
        "\n",
        "paragraphs = re.findall(r'<p>(.*?)</p>', str(respData))\n",
        "\n",
        "#for eachP in paragraphs:\n",
        "#  print(eachP)\n"
      ],
      "execution_count": null,
      "outputs": []
    },
    {
      "cell_type": "code",
      "metadata": {
        "id": "i57gOWJqcX9O"
      },
      "source": [
        "\"\"\"Handling CSV data\"\"\"\n",
        "\n",
        "\n"
      ],
      "execution_count": null,
      "outputs": []
    },
    {
      "cell_type": "code",
      "metadata": {
        "id": "uCuPvUL1cZmh"
      },
      "source": [
        "\"\"\"Handling SQL Data\"\"\"\n",
        "\n",
        "\n"
      ],
      "execution_count": null,
      "outputs": []
    },
    {
      "cell_type": "markdown",
      "metadata": {
        "id": "WXBUYRrWAMHA"
      },
      "source": [
        "\n",
        "###<center><h2 id=\"cont\">Control Statements</h2>"
      ]
    },
    {
      "cell_type": "markdown",
      "metadata": {
        "id": "3aez085tAT2H"
      },
      "source": [
        "###<center><h2 id=\"iter\">Iterators</h2>"
      ]
    }
  ]
}